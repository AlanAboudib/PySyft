{
 "cells": [
  {
   "cell_type": "markdown",
   "metadata": {},
   "source": [
    "# Part 8 - Federated Learning on MNIST using a CNN\n",
    "\n",
    "We show here how  simple it is to switch to Pytorch models to syft models so as to perform Federated Learning, by using directly the canonical example of training a CNN on MNIST which provided by PyTorch [here](https://github.com/pytorch/examples/blob/master/mnist/main.py). We only changed the code to run in a notebook and we mention all the changed made which enable Federated Learning.\n",
    "\n",
    "**Roadmap of future improvements:**\n",
    "\n",
    " _See the #TODO for details about the following issues:_\n",
    " - support **momentum args in optim SGD** #1896\n",
    " - **use `FederatedDataset` & `FederatedDataLoader` @jlebensold**\n",
    " - support .to(device) hooking #1893\n",
    " - silence the Warning in log_softmax -> needs a hook_kwargs\n",
    "\n",
    "\n",
    "Authors:\n",
    "- Théo Ryffel - GitHub: [@LaRiffle](https://github.com/LaRiffle)"
   ]
  },
  {
   "cell_type": "markdown",
   "metadata": {},
   "source": [
    "### Imports and model specifications\n",
    "\n",
    "First we make the official imports"
   ]
  },
  {
   "cell_type": "code",
   "execution_count": 1,
   "metadata": {},
   "outputs": [],
   "source": [
    "from __future__ import print_function\n",
    "import argparse\n",
    "import torch\n",
    "import torch.nn as nn\n",
    "import torch.nn.functional as F\n",
    "import torch.optim as optim\n",
    "from torchvision import datasets, transforms"
   ]
  },
  {
   "cell_type": "markdown",
   "metadata": {},
   "source": [
    "And than those specific to PySyft. In particular we define remote workers alice and bob."
   ]
  },
  {
   "cell_type": "code",
   "execution_count": 2,
   "metadata": {},
   "outputs": [],
   "source": [
    "import syft as sy\n",
    "import torch\n",
    "import torch.nn.functional as F\n",
    "import json\n",
    "import random\n",
    "hook = sy.TorchHook(torch)\n",
    "me = hook.local_worker\n",
    "bob = sy.VirtualWorker(id=\"bob\",hook=hook, is_client_worker=False)\n",
    "alice = sy.VirtualWorker(id=\"alice\",hook=hook, is_client_worker=False)\n",
    "me.is_client_worker = False\n",
    "\n",
    "compute_nodes = [bob, alice]\n",
    "\n",
    "me.add_workers([bob, alice])\n",
    "bob.add_workers([me, alice])\n",
    "alice.add_workers([me, bob])"
   ]
  },
  {
   "cell_type": "markdown",
   "metadata": {},
   "source": [
    "We define the setting of the learning task"
   ]
  },
  {
   "cell_type": "code",
   "execution_count": 9,
   "metadata": {},
   "outputs": [],
   "source": [
    "class Arguments():\n",
    "    def __init__(self):\n",
    "        self.batch_size = 64\n",
    "        self.test_batch_size = 1000\n",
    "        self.epochs = 10\n",
    "        self.lr = 0.01\n",
    "        self.momentum = 0.5\n",
    "        self.no_cuda = False\n",
    "        self.seed = 1\n",
    "        self.log_interval = 10\n",
    "        self.save_model = False\n",
    "\n",
    "args = Arguments()\n",
    "\n",
    "use_cuda = not args.no_cuda and torch.cuda.is_available()\n",
    "\n",
    "torch.manual_seed(args.seed)\n",
    "\n",
    "device = torch.device(\"cuda\" if use_cuda else \"cpu\")\n",
    "\n",
    "kwargs = {'num_workers': 1, 'pin_memory': True} if use_cuda else {}"
   ]
  },
  {
   "cell_type": "markdown",
   "metadata": {},
   "source": [
    "### Data loading\n",
    "We first load the data..."
   ]
  },
  {
   "cell_type": "code",
   "execution_count": 10,
   "metadata": {},
   "outputs": [],
   "source": [
    "train_loader = torch.utils.data.DataLoader(\n",
    "    datasets.MNIST('../data', train=True, download=True,\n",
    "                   transform=transforms.Compose([\n",
    "                       transforms.ToTensor(),\n",
    "                       transforms.Normalize((0.1307,), (0.3081,))\n",
    "                   ])),\n",
    "    batch_size=args.batch_size, shuffle=True, **kwargs)\n",
    "test_loader = torch.utils.data.DataLoader(\n",
    "    datasets.MNIST('../data', train=False, transform=transforms.Compose([\n",
    "                       transforms.ToTensor(),\n",
    "                       transforms.Normalize((0.1307,), (0.3081,))\n",
    "                   ])),\n",
    "    batch_size=args.test_batch_size, shuffle=True, **kwargs)"
   ]
  },
  {
   "cell_type": "markdown",
   "metadata": {},
   "source": [
    "... and then send the training dataset to the workers, alice and bob."
   ]
  },
  {
   "cell_type": "code",
   "execution_count": 5,
   "metadata": {},
   "outputs": [
    {
     "name": "stdout",
     "output_type": "stream",
     "text": [
      "0 %\n",
      "2 %\n",
      "4 %\n",
      "6 %\n",
      "9 %\n",
      "11 %\n",
      "Done !\n"
     ]
    }
   ],
   "source": [
    "#TODO leverage FederatedDataset and FederatedDataloader\n",
    "train_distributed_dataset = []\n",
    "\n",
    "n_batch = 937\n",
    "\n",
    "for batch_idx, (data,target) in enumerate(train_loader):\n",
    "    if batch_idx % 20 == 0:\n",
    "        print(round(100*batch_idx/n_batch), '%')\n",
    "    data = data.send(compute_nodes[batch_idx % len(compute_nodes)])\n",
    "    target = target.send(compute_nodes[batch_idx % len(compute_nodes)])\n",
    "    train_distributed_dataset.append((data, target))\n",
    "    if batch_idx > 100: #TODO rm this limit which is just for dev to have less data to load and train\n",
    "        break\n",
    "        \n",
    "print('Done !')"
   ]
  },
  {
   "cell_type": "markdown",
   "metadata": {},
   "source": [
    "### CNN specification\n",
    "Here we use exactly the same CNN as in the official example."
   ]
  },
  {
   "cell_type": "code",
   "execution_count": 6,
   "metadata": {},
   "outputs": [],
   "source": [
    "class Net(nn.Module):\n",
    "    def __init__(self):\n",
    "        super(Net, self).__init__()\n",
    "        self.conv1 = nn.Conv2d(1, 20, 5, 1)\n",
    "        self.conv2 = nn.Conv2d(20, 50, 5, 1)\n",
    "        self.fc1 = nn.Linear(4*4*50, 500)\n",
    "        self.fc2 = nn.Linear(500, 10)\n",
    "\n",
    "    def forward(self, x):\n",
    "        x = F.relu(self.conv1(x))\n",
    "        x = F.max_pool2d(x, 2, 2)\n",
    "        x = F.relu(self.conv2(x))\n",
    "        x = F.max_pool2d(x, 2, 2)\n",
    "        x = x.view(-1, 4*4*50)\n",
    "        x = F.relu(self.fc1(x))\n",
    "        x = self.fc2(x)\n",
    "        return F.log_softmax(x, dim=1) #TODO: shouldn't raise warning"
   ]
  },
  {
   "cell_type": "markdown",
   "metadata": {},
   "source": [
    "### Define the train and test functions"
   ]
  },
  {
   "cell_type": "code",
   "execution_count": 7,
   "metadata": {},
   "outputs": [],
   "source": [
    "def train(args, model, device, train_loader, optimizer, epoch):\n",
    "    model.train()\n",
    "    for batch_idx, (data, target) in enumerate(train_distributed_dataset): # <-- now it is a distributed dataset\n",
    "        model.send(data.location) # <-- NEW: send the model to the right location\n",
    "        #TODO data, target = data.to(device), target.to(device)\n",
    "        optimizer.zero_grad()\n",
    "        output = model(data)\n",
    "        loss = F.nll_loss(output, target)\n",
    "        loss.backward()\n",
    "        optimizer.step()\n",
    "        model.get() # <-- NEW: get the model back\n",
    "        if batch_idx % args.log_interval == 0:\n",
    "            loss = loss.get() # <-- NEW: get the loss back\n",
    "            print('Train Epoch: {} [{}/{} ({:.0f}%)]\\tLoss: {:.6f}'.format(\n",
    "                epoch, batch_idx * args.batch_size, len(train_loader) * args.batch_size, #batch_idx * len(data), len(train_loader.dataset),\n",
    "                100. * batch_idx / len(train_loader), loss.item()))\n",
    "\n",
    "def test(args, model, device, test_loader):\n",
    "    model.eval()\n",
    "    test_loss = 0\n",
    "    correct = 0\n",
    "    with torch.no_grad():\n",
    "        for data, target in test_loader:\n",
    "            data, target = data.to(device), target.to(device)\n",
    "            output = model(data)\n",
    "            test_loss += F.nll_loss(output, target, reduction='sum').item() # sum up batch loss\n",
    "            #TODO should be using with kwargs: output.argmax(dim=1, keepdim=True)\n",
    "            pred = output.argmax(1, keepdim=True) # get the index of the max log-probability \n",
    "            correct += pred.eq(target.view_as(pred)).sum().item()\n",
    "\n",
    "    test_loss /= len(test_loader.dataset)\n",
    "\n",
    "    print('\\nTest set: Average loss: {:.4f}, Accuracy: {}/{} ({:.0f}%)\\n'.format(\n",
    "        test_loss, correct, len(test_loader.dataset),\n",
    "        100. * correct / len(test_loader.dataset)))\n"
   ]
  },
  {
   "cell_type": "markdown",
   "metadata": {},
   "source": [
    "### Launch the training !"
   ]
  },
  {
   "cell_type": "code",
   "execution_count": 8,
   "metadata": {},
   "outputs": [
    {
     "name": "stderr",
     "output_type": "stream",
     "text": [
      "/Users/ryffel/Documents/Code/PySyft/syft/frameworks/torch/tensors/interpreters/native.py:185: UserWarning: Implicit dimension choice for log_softmax has been deprecated. Change the call to include dim=X as an argument.\n",
      "  response = eval(cmd)(*args)\n"
     ]
    },
    {
     "name": "stdout",
     "output_type": "stream",
     "text": [
      "Train Epoch: 1 [0/60032 (0%)]\tLoss: 2.281877\n",
      "Train Epoch: 1 [640/60032 (1%)]\tLoss: 2.230119\n",
      "Train Epoch: 1 [1280/60032 (2%)]\tLoss: 2.170815\n",
      "Train Epoch: 1 [1920/60032 (3%)]\tLoss: 2.162510\n",
      "Train Epoch: 1 [2560/60032 (4%)]\tLoss: 2.070279\n",
      "Train Epoch: 1 [3200/60032 (5%)]\tLoss: 1.946969\n",
      "Train Epoch: 1 [3840/60032 (6%)]\tLoss: 1.825168\n",
      "Train Epoch: 1 [4480/60032 (7%)]\tLoss: 1.627585\n",
      "Train Epoch: 1 [5120/60032 (9%)]\tLoss: 1.354165\n",
      "Train Epoch: 1 [5760/60032 (10%)]\tLoss: 1.098111\n",
      "Train Epoch: 1 [6400/60032 (11%)]\tLoss: 0.904220\n",
      "\n",
      "Test set: Average loss: 0.0010, Accuracy: 7949/10000 (79%)\n",
      "\n",
      "Train Epoch: 2 [0/60032 (0%)]\tLoss: 0.798303\n",
      "Train Epoch: 2 [640/60032 (1%)]\tLoss: 0.786481\n",
      "Train Epoch: 2 [1280/60032 (2%)]\tLoss: 0.631002\n",
      "Train Epoch: 2 [1920/60032 (3%)]\tLoss: 0.805443\n",
      "Train Epoch: 2 [2560/60032 (4%)]\tLoss: 0.681612\n",
      "Train Epoch: 2 [3200/60032 (5%)]\tLoss: 0.456450\n",
      "Train Epoch: 2 [3840/60032 (6%)]\tLoss: 0.593717\n",
      "Train Epoch: 2 [4480/60032 (7%)]\tLoss: 0.696700\n",
      "Train Epoch: 2 [5120/60032 (9%)]\tLoss: 0.325590\n",
      "Train Epoch: 2 [5760/60032 (10%)]\tLoss: 0.340172\n",
      "Train Epoch: 2 [6400/60032 (11%)]\tLoss: 0.388022\n",
      "\n",
      "Test set: Average loss: 0.0004, Accuracy: 8800/10000 (88%)\n",
      "\n",
      "Train Epoch: 3 [0/60032 (0%)]\tLoss: 0.365165\n",
      "Train Epoch: 3 [640/60032 (1%)]\tLoss: 0.363181\n",
      "Train Epoch: 3 [1280/60032 (2%)]\tLoss: 0.331562\n",
      "Train Epoch: 3 [1920/60032 (3%)]\tLoss: 0.632038\n",
      "Train Epoch: 3 [2560/60032 (4%)]\tLoss: 0.421098\n",
      "Train Epoch: 3 [3200/60032 (5%)]\tLoss: 0.246935\n",
      "Train Epoch: 3 [3840/60032 (6%)]\tLoss: 0.421858\n",
      "Train Epoch: 3 [4480/60032 (7%)]\tLoss: 0.598191\n",
      "Train Epoch: 3 [5120/60032 (9%)]\tLoss: 0.192189\n",
      "Train Epoch: 3 [5760/60032 (10%)]\tLoss: 0.257632\n",
      "Train Epoch: 3 [6400/60032 (11%)]\tLoss: 0.279860\n",
      "\n",
      "Test set: Average loss: 0.0003, Accuracy: 9017/10000 (90%)\n",
      "\n",
      "Train Epoch: 4 [0/60032 (0%)]\tLoss: 0.298692\n",
      "Train Epoch: 4 [640/60032 (1%)]\tLoss: 0.276807\n",
      "Train Epoch: 4 [1280/60032 (2%)]\tLoss: 0.274421\n",
      "Train Epoch: 4 [1920/60032 (3%)]\tLoss: 0.548534\n",
      "Train Epoch: 4 [2560/60032 (4%)]\tLoss: 0.309404\n",
      "Train Epoch: 4 [3200/60032 (5%)]\tLoss: 0.175800\n",
      "Train Epoch: 4 [3840/60032 (6%)]\tLoss: 0.344540\n",
      "Train Epoch: 4 [4480/60032 (7%)]\tLoss: 0.530732\n",
      "Train Epoch: 4 [5120/60032 (9%)]\tLoss: 0.141817\n",
      "Train Epoch: 4 [5760/60032 (10%)]\tLoss: 0.220874\n",
      "Train Epoch: 4 [6400/60032 (11%)]\tLoss: 0.228218\n",
      "\n",
      "Test set: Average loss: 0.0003, Accuracy: 9144/10000 (91%)\n",
      "\n",
      "Train Epoch: 5 [0/60032 (0%)]\tLoss: 0.253832\n",
      "Train Epoch: 5 [640/60032 (1%)]\tLoss: 0.239463\n",
      "Train Epoch: 5 [1280/60032 (2%)]\tLoss: 0.230896\n",
      "Train Epoch: 5 [1920/60032 (3%)]\tLoss: 0.479131\n",
      "Train Epoch: 5 [2560/60032 (4%)]\tLoss: 0.239279\n",
      "Train Epoch: 5 [3200/60032 (5%)]\tLoss: 0.145729\n",
      "Train Epoch: 5 [3840/60032 (6%)]\tLoss: 0.297461\n",
      "Train Epoch: 5 [4480/60032 (7%)]\tLoss: 0.476578\n",
      "Train Epoch: 5 [5120/60032 (9%)]\tLoss: 0.112687\n",
      "Train Epoch: 5 [5760/60032 (10%)]\tLoss: 0.190133\n",
      "Train Epoch: 5 [6400/60032 (11%)]\tLoss: 0.200155\n",
      "\n",
      "Test set: Average loss: 0.0002, Accuracy: 9250/10000 (92%)\n",
      "\n",
      "Train Epoch: 6 [0/60032 (0%)]\tLoss: 0.217773\n",
      "Train Epoch: 6 [640/60032 (1%)]\tLoss: 0.215003\n",
      "Train Epoch: 6 [1280/60032 (2%)]\tLoss: 0.197765\n",
      "Train Epoch: 6 [1920/60032 (3%)]\tLoss: 0.425606\n",
      "Train Epoch: 6 [2560/60032 (4%)]\tLoss: 0.191774\n",
      "Train Epoch: 6 [3200/60032 (5%)]\tLoss: 0.128251\n",
      "Train Epoch: 6 [3840/60032 (6%)]\tLoss: 0.265664\n",
      "Train Epoch: 6 [4480/60032 (7%)]\tLoss: 0.430392\n",
      "Train Epoch: 6 [5120/60032 (9%)]\tLoss: 0.091786\n",
      "Train Epoch: 6 [5760/60032 (10%)]\tLoss: 0.162584\n",
      "Train Epoch: 6 [6400/60032 (11%)]\tLoss: 0.182617\n",
      "\n",
      "Test set: Average loss: 0.0002, Accuracy: 9328/10000 (93%)\n",
      "\n",
      "Train Epoch: 7 [0/60032 (0%)]\tLoss: 0.187344\n",
      "Train Epoch: 7 [640/60032 (1%)]\tLoss: 0.195330\n",
      "Train Epoch: 7 [1280/60032 (2%)]\tLoss: 0.173808\n",
      "Train Epoch: 7 [1920/60032 (3%)]\tLoss: 0.383378\n",
      "Train Epoch: 7 [2560/60032 (4%)]\tLoss: 0.157821\n",
      "Train Epoch: 7 [3200/60032 (5%)]\tLoss: 0.116272\n",
      "Train Epoch: 7 [3840/60032 (6%)]\tLoss: 0.240301\n",
      "Train Epoch: 7 [4480/60032 (7%)]\tLoss: 0.391596\n",
      "Train Epoch: 7 [5120/60032 (9%)]\tLoss: 0.075497\n",
      "Train Epoch: 7 [5760/60032 (10%)]\tLoss: 0.138945\n",
      "Train Epoch: 7 [6400/60032 (11%)]\tLoss: 0.171720\n",
      "\n",
      "Test set: Average loss: 0.0002, Accuracy: 9381/10000 (94%)\n",
      "\n",
      "Train Epoch: 8 [0/60032 (0%)]\tLoss: 0.163706\n",
      "Train Epoch: 8 [640/60032 (1%)]\tLoss: 0.177743\n",
      "Train Epoch: 8 [1280/60032 (2%)]\tLoss: 0.155991\n",
      "Train Epoch: 8 [1920/60032 (3%)]\tLoss: 0.348490\n",
      "Train Epoch: 8 [2560/60032 (4%)]\tLoss: 0.132864\n",
      "Train Epoch: 8 [3200/60032 (5%)]\tLoss: 0.107394\n",
      "Train Epoch: 8 [3840/60032 (6%)]\tLoss: 0.221014\n",
      "Train Epoch: 8 [4480/60032 (7%)]\tLoss: 0.358829\n",
      "Train Epoch: 8 [5120/60032 (9%)]\tLoss: 0.063539\n",
      "Train Epoch: 8 [5760/60032 (10%)]\tLoss: 0.118214\n",
      "Train Epoch: 8 [6400/60032 (11%)]\tLoss: 0.163206\n",
      "\n",
      "Test set: Average loss: 0.0002, Accuracy: 9442/10000 (94%)\n",
      "\n",
      "Train Epoch: 9 [0/60032 (0%)]\tLoss: 0.144499\n",
      "Train Epoch: 9 [640/60032 (1%)]\tLoss: 0.159050\n",
      "Train Epoch: 9 [1280/60032 (2%)]\tLoss: 0.140758\n",
      "Train Epoch: 9 [1920/60032 (3%)]\tLoss: 0.319164\n",
      "Train Epoch: 9 [2560/60032 (4%)]\tLoss: 0.113973\n",
      "Train Epoch: 9 [3200/60032 (5%)]\tLoss: 0.100408\n",
      "Train Epoch: 9 [3840/60032 (6%)]\tLoss: 0.205328\n",
      "Train Epoch: 9 [4480/60032 (7%)]\tLoss: 0.329028\n",
      "Train Epoch: 9 [5120/60032 (9%)]\tLoss: 0.053685\n",
      "Train Epoch: 9 [5760/60032 (10%)]\tLoss: 0.102049\n",
      "Train Epoch: 9 [6400/60032 (11%)]\tLoss: 0.157269\n",
      "\n",
      "Test set: Average loss: 0.0002, Accuracy: 9483/10000 (95%)\n",
      "\n",
      "Train Epoch: 10 [0/60032 (0%)]\tLoss: 0.128832\n",
      "Train Epoch: 10 [640/60032 (1%)]\tLoss: 0.142035\n",
      "Train Epoch: 10 [1280/60032 (2%)]\tLoss: 0.128562\n",
      "Train Epoch: 10 [1920/60032 (3%)]\tLoss: 0.293422\n",
      "Train Epoch: 10 [2560/60032 (4%)]\tLoss: 0.099424\n",
      "Train Epoch: 10 [3200/60032 (5%)]\tLoss: 0.093991\n",
      "Train Epoch: 10 [3840/60032 (6%)]\tLoss: 0.190023\n",
      "Train Epoch: 10 [4480/60032 (7%)]\tLoss: 0.303520\n",
      "Train Epoch: 10 [5120/60032 (9%)]\tLoss: 0.046035\n",
      "Train Epoch: 10 [5760/60032 (10%)]\tLoss: 0.089815\n",
      "Train Epoch: 10 [6400/60032 (11%)]\tLoss: 0.152521\n",
      "\n",
      "Test set: Average loss: 0.0002, Accuracy: 9528/10000 (95%)\n",
      "\n"
     ]
    }
   ],
   "source": [
    "model = Net() #TODO .to(device)\n",
    "optimizer = optim.SGD(model.parameters(), lr=args.lr) #TODO , momentum=args.momentum\n",
    "\n",
    "for epoch in range(1, args.epochs + 1):\n",
    "    train(args, model, device, train_loader, optimizer, epoch)\n",
    "    test(args, model, device, test_loader)\n",
    "\n",
    "if (args.save_model):\n",
    "    torch.save(model.state_dict(), \"mnist_cnn.pt\")\n"
   ]
  },
  {
   "cell_type": "code",
   "execution_count": null,
   "metadata": {},
   "outputs": [],
   "source": []
  }
 ],
 "metadata": {
  "kernelspec": {
   "display_name": "Python 3",
   "language": "python",
   "name": "python3"
  },
  "language_info": {
   "codemirror_mode": {
    "name": "ipython",
    "version": 3
   },
   "file_extension": ".py",
   "mimetype": "text/x-python",
   "name": "python",
   "nbconvert_exporter": "python",
   "pygments_lexer": "ipython3",
   "version": "3.6.1"
  }
 },
 "nbformat": 4,
 "nbformat_minor": 2
}
